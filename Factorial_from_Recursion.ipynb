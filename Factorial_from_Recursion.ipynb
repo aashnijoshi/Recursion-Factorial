{
  "nbformat": 4,
  "nbformat_minor": 0,
  "metadata": {
    "colab": {
      "name": "Factorial from Recursion.ipynb",
      "provenance": [],
      "authorship_tag": "ABX9TyPypbHz1fm+n5QefNWWBZqf",
      "include_colab_link": true
    },
    "kernelspec": {
      "name": "python3",
      "display_name": "Python 3"
    },
    "language_info": {
      "name": "python"
    }
  },
  "cells": [
    {
      "cell_type": "markdown",
      "metadata": {
        "id": "view-in-github",
        "colab_type": "text"
      },
      "source": [
        "<a href=\"https://colab.research.google.com/github/aashnijoshi/Recursion-Factorial/blob/main/Factorial_from_Recursion.ipynb\" target=\"_parent\"><img src=\"https://colab.research.google.com/assets/colab-badge.svg\" alt=\"Open In Colab\"/></a>"
      ]
    },
    {
      "cell_type": "code",
      "execution_count": null,
      "metadata": {
        "id": "gRIL8mCbvM09"
      },
      "outputs": [],
      "source": [
        "#Using the concept of recursion to calculate the factorial of a number\n",
        "#The goal of this program is to further understand how recursion works\n",
        "\n",
        "\n",
        "#Defining the function\n",
        "def factorial(n):\n",
        "    #Base \n",
        "    if n==0:\n",
        "        return 1\n",
        "    else:\n",
        "        return n*factorial(n-1)   #Calling the function inside the function\n",
        "    \n",
        "\n",
        "#To input the number from the user\n",
        "n=int(input(print(\"enter a number \")))\n",
        "a=factorial(n)  \n",
        "print(\"factorial=\",a)  \n",
        "\n"
      ]
    }
  ]
}